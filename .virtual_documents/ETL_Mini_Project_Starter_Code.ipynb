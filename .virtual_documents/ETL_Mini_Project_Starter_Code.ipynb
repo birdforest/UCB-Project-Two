# Import dependencies
import pandas as pd
import numpy as np
pd.set_option('max_colwidth', 400)





# Read the data into a Pandas DataFrame
crowdfunding_info_df = pd.read_excel('Resources/crowdfunding.xlsx')
crowdfunding_info_df.head()


# Get a brief summary of the crowdfunding_info DataFrame.
crowdfunding_info_df.info()





# Get the crowdfunding_info_df columns.
crowdfunding_info_df.columns


# Assign the category and subcategory values to category and subcategory columns.

# Split the "category & sub-category" column into "category" and "subcategory" columns
crowdfunding_info_df[['category', 'subcategory']] = crowdfunding_info_df['category & sub-category'].str.split('/', expand=True)

# Display the first few rows to verify the changes
crowdfunding_info_df.head()


# Get the unique categories and subcategories in separate lists.

# Get unique categories and subcategories
categories = crowdfunding_info_df['category'].unique().tolist()
subcategories = crowdfunding_info_df['subcategory'].unique().tolist()

print(categories)
print(subcategories)


# Get the number of distinct values in the categories and subcategories lists.
print(len(categories))
print(len(subcategories))


# Create numpy arrays from 1-9 for the categories and 1-24 for the subcategories.
category_ids = np.arange(1, 10)
subcategory_ids = np.arange(1, 25)

print(category_ids)
print(subcategory_ids)


# Use a list comprehension to add "cat" to each category_id. 
cat_ids = ['cat' + str(cat_id) for cat_id in category_ids]
# Use a list comprehension to add "subcat" to each subcategory_id.    
scat_ids = ['subcat' + str(subcat_id) for subcat_id in subcategory_ids]
    
print(cat_ids)
print(scat_ids)


# Create a category DataFrame with the category_id array as the category_id and categories list as the category name.
category_df = pd.DataFrame({'category_id': cat_ids,
                             'category': categories})
# Create a category DataFrame with the subcategory_id array as the subcategory_id and subcategories list as the subcategory name. 
subcategory_df = pd.DataFrame({'subcategory_id': scat_ids,
                                'subcategory': subcategories})


category_df


subcategory_df


# Export categories_df and subcategories_df as CSV files.
category_df.to_csv("Resources/category.csv", index=False)

subcategory_df.to_csv("Resources/subcategory.csv", index=False)





# Create a copy of the crowdfunding_info_df DataFrame name campaign_df. 
campaign_df = crowdfunding_info_df.copy()
campaign_df.head()


# Rename the blurb, launched_at, and deadline columns.

# Create a copy of the crowdfunding_info_df DataFrame named campaign_df
campaign_df = crowdfunding_info_df.copy()

# Rename the columns
campaign_df.rename(columns={'blurb': 'description', 'launched_at': 'launch_date', 'deadline': 'end_date'}, inplace=True)

# Display the first few rows to verify the changes
campaign_df.head()


# Convert the goal and pledged columns to a `float` data type.
campaign_df[["goal","pledged"]] = campaign_df[["goal","pledged"]].astype(float)
campaign_df.head()

# Display the first few rows to verify the changes
campaign_df.head()


# Check the datatypes
print(campaign_df.dtypes)


# Format the launched_date and end_date columns to datetime format
from datetime import datetime as dt

campaign_df["launch_date"] = pd.to_datetime(campaign_df["launch_date"], unit='s').dt.strftime('%Y-%m-%d') 
campaign_df["end_date"] = pd.to_datetime(campaign_df["end_date"], unit='s').dt.strftime('%Y-%m-%d')

campaign_df.head()


# Merge the campaign_df with the category_df on the "category" column and 
# the subcategory_df on the "subcategory" column.
campaign_merged_df = campaign_df.merge(category_df, on='category', how='left').merge(subcategory_df, on='subcategory', how='left')

campaign_merged_df.tail(10)


# Drop unwanted columns
campaign_cleaned = campaign_merged_df.drop(['staff_pick', 'spotlight', 'category & sub-category','category', 'subcategory'], axis=1)
campaign_cleaned.head()


# Export the DataFrame as a CSV file. 
campaign_cleaned.to_csv("Resources/campaign.csv", index=False)





# Read the data into a Pandas DataFrame. Use the `header=2` parameter when reading in the data.
contact_info_df = pd.read_excel('Resources/contacts.xlsx', header=3)
contact_info_df.head()








# Iterate through the contact_info_df and convert each row to a dictionary.
import json
dict_values = []

for i, row in contact_info_df.iterrows():
    # Extract the JSON-formatted data from the 'contact_info' column
    data = row['contact_info']
    
    # Convert the JSON data to a Python dictionary
    converted_data = json.loads(data)
    
    # Extract the values from the dictionary and store them in a list
    row_values = [v for k, v in converted_data.items()]
    
    # Append the list of values for each row to dict_values
    dict_values.append(row_values)

# Print out the list of values for each row.
print(dict_values)


# Create a contact_info DataFrame and add each list of values, i.e., each row 
# to the 'contact_id', 'name', 'email' columns.

contact_info_updated_df = pd.DataFrame(dict_values, columns=['contact_id', 'name', 'email'])

contact_info_updated_df.head()


# Check the datatypes.
contact_info_updated_df.info()


# Create a "first"name" and "last_name" column with the first and last names from the "name" column. 

# Create a "first_name" and "last_name" column
contact_info_updated_df[['first_name', 'last_name']] = contact_info_updated_df['name'].str.split(' ', expand=True)

# Drop the original "name" column
contact_info_updated_df.drop(columns=['name'], inplace=True)

contact_info_updated_df.head(10)


# Reorder the columns
contacts_df_clean = contact_info_updated_df.reindex(columns=['contact_id', 'first_name', 'last_name', 'email'])

contacts_df_clean.head(10)


# Check the datatypes one more time before exporting as CSV file.
contacts_df_clean.info()


# Export the DataFrame as a CSV file. 
contacts_df_clean.to_csv("Resources/contacts.csv", encoding='utf8', index=False)





contact_info_df_copy = contact_info_df.copy()
contact_info_df_copy.head()


# Extract the four-digit contact ID number.

# Extract the four-digit contact ID number using regex
contact_info_df_copy['contact_id'] = contact_info_df_copy['contact_info'].str.extract(r'(\d{4})')

contact_info_df_copy.head()


# Check the datatypes.
contact_info_df_copy.info()


# Convert the "contact_id" column to an int64 data type.
contact_info_df_copy['contact_id'] = contact_info_df_copy['contact_id'].astype('int64')

contact_info_df_copy.info()


# Extract the name of the contact and add it to a new column.
contact_info_df_copy['name'] = contact_info_df_copy['contact_info'].str.extract(r'([^nameil"\s][A-Za-z]+\s+[A-Za-z]+)')

contact_info_df_copy.head(10)


# Extract the email from the contacts and add the values to a new column.
contact_info_df_copy['email'] = contact_info_df_copy['contact_info'].str.extract(r'"(\S+@\S+)"}')

contact_info_df_copy.head(10)


# Create a copy of the contact_info_df with the 'contact_id', 'name', 'email' columns.

contact_info_df_copy_updated = contact_info_df_copy[['contact_id', 'name', 'email']].copy()

contact_info_df_copy_updated.head(10)


# Create a "first"name" and "last_name" column with the first and last names from the "name" column. 
contact_info_df_copy_updated[['first_name', 'last_name']] = contact_info_df_copy_updated['name'].str.split(' ', n=1, expand=True)

# Drop the contact_name column
contact_info_df_copy_updated.drop(columns=['name'], inplace=True)

contact_info_df_copy_updated.head()


# Reorder the columns
contact_info_df_copy_updated = contact_info_df_copy_updated.reindex(columns=['contact_id', 'first_name', 'last_name', 'email'])

contact_info_df_copy_updated.head(10)


# Check the datatypes one more time before exporting as CSV file.
contact_info_df_copy_updated.info()


# Export the DataFrame as a CSV file. 
# contacts_df_clean.to_csv("Resources/contacts.csv", encoding='utf8', index=False)



